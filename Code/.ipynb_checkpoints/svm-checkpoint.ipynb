{
 "cells": [
  {
   "cell_type": "code",
   "execution_count": 1,
   "metadata": {},
   "outputs": [],
   "source": [
    "from sklearn import svm\n",
    "import pickle\n",
    "import random\n",
    "import numpy as np\n",
    "from scipy.sparse import lil_matrix\n",
    "from sklearn.feature_extraction.text import TfidfTransformer"
   ]
  },
  {
   "cell_type": "code",
   "execution_count": 2,
   "metadata": {},
   "outputs": [],
   "source": [
    "FREQ_DIST_FILE = '../train-processed-freqdist.pkl'\n",
    "BI_FREQ_DIST_FILE = '../train-processed-freqdist-bi.pkl'\n",
    "TRAIN_PROCESSED_FILE = '../train-processed.csv'\n",
    "TEST_PROCESSED_FILE = '../test-processed.csv'\n",
    "TRAIN = True\n",
    "UNIGRAM_SIZE = 15000\n",
    "VOCAB_SIZE = UNIGRAM_SIZE\n",
    "USE_BIGRAMS = True\n",
    "if USE_BIGRAMS:\n",
    "    BIGRAM_SIZE = 10000\n",
    "    VOCAB_SIZE = UNIGRAM_SIZE + BIGRAM_SIZE\n",
    "FEAT_TYPE = 'frequency'"
   ]
  },
  {
   "cell_type": "code",
   "execution_count": 3,
   "metadata": {},
   "outputs": [],
   "source": [
    "def get_feature_vector(tweet):\n",
    "    uni_feature_vector = []\n",
    "    bi_feature_vector = []\n",
    "    words = tweet.split()\n",
    "    for i in range(len(words) - 1):\n",
    "        word = words[i]\n",
    "        next_word = words[i + 1]\n",
    "        if unigrams.get(word):\n",
    "            uni_feature_vector.append(word)\n",
    "        if USE_BIGRAMS:\n",
    "            if bigrams.get((word, next_word)):\n",
    "                bi_feature_vector.append((word, next_word))\n",
    "    if len(words) >= 1:\n",
    "        if unigrams.get(words[-1]):\n",
    "            uni_feature_vector.append(words[-1])\n",
    "    return uni_feature_vector, bi_feature_vector"
   ]
  },
  {
   "cell_type": "code",
   "execution_count": 4,
   "metadata": {},
   "outputs": [],
   "source": [
    "def extract_features(tweets, batch_size=500, test_file=True, feat_type='presence'):\n",
    "    num_batches = int(np.ceil(len(tweets) / float(batch_size)))\n",
    "    for i in range(num_batches):\n",
    "        batch = tweets[i * batch_size: (i + 1) * batch_size]\n",
    "        features = lil_matrix((batch_size, VOCAB_SIZE))\n",
    "        labels = np.zeros(batch_size)\n",
    "        for j, tweet in enumerate(batch):\n",
    "            if test_file:\n",
    "                tweet_words = tweet[1][0]\n",
    "                tweet_bigrams = tweet[1][1]\n",
    "            else:\n",
    "                tweet_words = tweet[2][0]\n",
    "                tweet_bigrams = tweet[2][1]\n",
    "                labels[j] = tweet[1]\n",
    "            if feat_type == 'presence':\n",
    "                tweet_words = set(tweet_words)\n",
    "                tweet_bigrams = set(tweet_bigrams)\n",
    "            for word in tweet_words:\n",
    "                idx = unigrams.get(word)\n",
    "                if idx:\n",
    "                    features[j, idx] += 1\n",
    "            if USE_BIGRAMS:\n",
    "                for bigram in tweet_bigrams:\n",
    "                    idx = bigrams.get(bigram)\n",
    "                    if idx:\n",
    "                        features[j, UNIGRAM_SIZE + idx] += 1\n",
    "        yield features, labels"
   ]
  },
  {
   "cell_type": "code",
   "execution_count": 5,
   "metadata": {},
   "outputs": [],
   "source": [
    "def apply_tf_idf(X):\n",
    "    transformer = TfidfTransformer(smooth_idf=True, sublinear_tf=True, use_idf=True)\n",
    "    transformer.fit(X)\n",
    "    return transformer"
   ]
  },
  {
   "cell_type": "code",
   "execution_count": 6,
   "metadata": {},
   "outputs": [],
   "source": [
    "def process_tweets(csv_file, test_file=True):\n",
    "    tweets = []\n",
    "    print('Generating feature vectors')\n",
    "    with open(csv_file, 'r') as csv:\n",
    "        lines = csv.readlines()\n",
    "        total = len(lines)\n",
    "        for i, line in enumerate(lines):\n",
    "            if test_file:\n",
    "                tweet_id, tweet = line.split(',')\n",
    "            else:\n",
    "                tweet_id, sentiment, tweet = line.split(',')\n",
    "            feature_vector = get_feature_vector(tweet)\n",
    "            if test_file:\n",
    "                tweets.append((tweet_id, feature_vector))\n",
    "            else:\n",
    "                tweets.append((tweet_id, int(sentiment), feature_vector))\n",
    "            #utils.write_status(i + 1, total)\n",
    "    print()\n",
    "    return tweets"
   ]
  },
  {
   "cell_type": "code",
   "execution_count": 7,
   "metadata": {},
   "outputs": [],
   "source": [
    "def top_n_words(pkl_file_name, N, shift=0):\n",
    "    with open(pkl_file_name, 'rb') as pkl_file:\n",
    "        freq_dist = pickle.load(pkl_file)\n",
    "    most_common = freq_dist.most_common(N)\n",
    "    words = {p[0]: i + shift for i, p in enumerate(most_common)}\n",
    "    return words"
   ]
  },
  {
   "cell_type": "code",
   "execution_count": 8,
   "metadata": {},
   "outputs": [],
   "source": [
    "def top_n_bigrams(pkl_file_name, N, shift=0):\n",
    "    with open(pkl_file_name, 'rb') as pkl_file:\n",
    "        freq_dist = pickle.load(pkl_file)\n",
    "    most_common = freq_dist.most_common(N)\n",
    "    bigrams = {p[0]: i for i, p in enumerate(most_common)}\n",
    "    return bigrams"
   ]
  },
  {
   "cell_type": "code",
   "execution_count": 9,
   "metadata": {},
   "outputs": [],
   "source": [
    "def split_data(tweets, validation_split=0.1):\n",
    "    index = int((1 - validation_split) * len(tweets))\n",
    "    random.shuffle(tweets)\n",
    "    return tweets[:index], tweets[index:]"
   ]
  },
  {
   "cell_type": "code",
   "execution_count": 18,
   "metadata": {},
   "outputs": [
    {
     "name": "stdout",
     "output_type": "stream",
     "text": [
      "Generating feature vectors\n",
      "\n",
      "Extracting features & training batches\n",
      "\n",
      "Testing\n",
      "\n",
      "Correct: 82.9545 %\n"
     ]
    }
   ],
   "source": [
    "unigrams = top_n_words(FREQ_DIST_FILE, UNIGRAM_SIZE)\n",
    "if USE_BIGRAMS:\n",
    "    bigrams = top_n_bigrams(BI_FREQ_DIST_FILE, BIGRAM_SIZE)\n",
    "tweets = process_tweets(TRAIN_PROCESSED_FILE, test_file=False)\n",
    "if TRAIN:\n",
    "    train_tweets, val_tweets = split_data(tweets)\n",
    "else:\n",
    "    random.shuffle(tweets)\n",
    "    train_tweets = tweets\n",
    "del tweets\n",
    "print('Extracting features & training batches')\n",
    "clf = svm.LinearSVC(C=0.1)\n",
    "batch_size = len(train_tweets)\n",
    "i = 1\n",
    "n_train_batches = int(np.ceil(len(train_tweets) / float(batch_size)))\n",
    "for training_set_X, training_set_y in extract_features(train_tweets, test_file=False, feat_type=FEAT_TYPE, batch_size=batch_size):\n",
    "    #utils.write_status(i, n_train_batches)\n",
    "    i += 1\n",
    "    if FEAT_TYPE == 'frequency':\n",
    "        tfidf = apply_tf_idf(training_set_X)\n",
    "        training_set_X = tfidf.transform(training_set_X)\n",
    "    clf.fit(training_set_X, training_set_y)\n",
    "print()\n",
    "print('Testing')\n",
    "if TRAIN:\n",
    "    correct, total = 0, len(val_tweets)\n",
    "    i = 1\n",
    "    batch_size = len(val_tweets)\n",
    "    n_val_batches = int(np.ceil(len(val_tweets) / float(batch_size)))\n",
    "    for val_set_X, val_set_y in extract_features(val_tweets, test_file=False, feat_type=FEAT_TYPE, batch_size=batch_size):\n",
    "        if FEAT_TYPE == 'frequency':\n",
    "            val_set_X = tfidf.transform(val_set_X)\n",
    "        prediction = clf.predict(val_set_X)\n",
    "        correct += np.sum(prediction == val_set_y)\n",
    "        #utils.write_status(i, n_val_batches)\n",
    "        i += 1\n",
    "    print('\\nCorrect: %.4f %%' % (correct * 100. / total))\n",
    "else:\n",
    "    del train_tweets\n",
    "    test_tweets = process_tweets(TEST_PROCESSED_FILE, test_file=True)\n",
    "    n_test_batches = int(np.ceil(len(test_tweets) / float(batch_size)))\n",
    "    predictions = np.array([])\n",
    "    print('Predicting batches')\n",
    "    i = 1\n",
    "    for test_set_X, _ in extract_features(test_tweets, test_file=True, feat_type=FEAT_TYPE):\n",
    "        if FEAT_TYPE == 'frequency':\n",
    "            test_set_X = tfidf.transform(test_set_X)\n",
    "        prediction = clf.predict(test_set_X)\n",
    "        predictions = np.concatenate((predictions, prediction))\n",
    "        #utils.write_status(i, n_test_batches)\n",
    "        i += 1\n",
    "    predictions = [(str(j), int(predictions[j]))\n",
    "                   for j in range(len(test_tweets))]\n",
    "    #utils.save_results_to_csv(predictions, 'svm.csv')\n",
    "    print('\\nSaved to svm.csv')"
   ]
  },
  {
   "cell_type": "code",
   "execution_count": null,
   "metadata": {},
   "outputs": [],
   "source": []
  }
 ],
 "metadata": {
  "kernelspec": {
   "display_name": "Python 3",
   "language": "python",
   "name": "python3"
  },
  "language_info": {
   "codemirror_mode": {
    "name": "ipython",
    "version": 3
   },
   "file_extension": ".py",
   "mimetype": "text/x-python",
   "name": "python",
   "nbconvert_exporter": "python",
   "pygments_lexer": "ipython3",
   "version": "3.8.0"
  }
 },
 "nbformat": 4,
 "nbformat_minor": 4
}
