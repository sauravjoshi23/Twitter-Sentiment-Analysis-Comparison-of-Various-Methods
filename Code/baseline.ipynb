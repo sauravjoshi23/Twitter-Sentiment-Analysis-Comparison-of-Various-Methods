{
 "cells": [
  {
   "cell_type": "code",
   "execution_count": 39,
   "metadata": {},
   "outputs": [],
   "source": [
    "import utils\n",
    "\n",
    "TRAIN_PROCESSED_FILE = 'train-processed.csv'\n",
    "TEST_PROCESSED_FILE = 'test-processed.csv'\n",
    "POSITIVE_WORDS_FILE = 'dataset/positive-words.txt'\n",
    "NEGATIVE_WORDS_FILE = 'dataset/negative-words.txt'\n",
    "TRAIN = True"
   ]
  },
  {
   "cell_type": "code",
   "execution_count": 40,
   "metadata": {},
   "outputs": [],
   "source": [
    "def classify(processed_csv, test_file=True):\n",
    "    positive_words = []\n",
    "    negative_words = []\n",
    "    \n",
    "    with open('dataset/positive-words.txt','r',encoding=\"ISO-8859-1\") as file:\n",
    "        for line in file:\n",
    "            positive_words.append(line)\n",
    "            \n",
    "    with open('dataset/negative-words.txt','r',encoding=\"ISO-8859-1\") as file:\n",
    "        for line in file:\n",
    "            negative_words.append(line)\n",
    "        \n",
    "    \n",
    "    predictions = []\n",
    "    with open(processed_csv, 'r', encoding='UTF8') as csv:\n",
    "        for line in csv:\n",
    "            if test_file:\n",
    "                tweet_id, tweet = line.strip().split(',')\n",
    "            else:\n",
    "                tweet_id, label, tweet = line.strip().split(',')\n",
    "            pos_count, neg_count = 0, 0\n",
    "            for word in tweet.split():\n",
    "                if word in positive_words:\n",
    "                    pos_count += 1\n",
    "                elif word in negative_words:\n",
    "                    neg_count += 1\n",
    "            # print pos_count, neg_count\n",
    "            prediction = 1 if pos_count >= neg_count else 0\n",
    "            if test_file:\n",
    "                predictions.append((tweet_id, prediction))\n",
    "            else:\n",
    "                predictions.append((tweet_id, int(label), prediction))\n",
    "    return predictions"
   ]
  },
  {
   "cell_type": "code",
   "execution_count": 41,
   "metadata": {},
   "outputs": [
    {
     "name": "stdout",
     "output_type": "stream",
     "text": [
      "Correct = 47.88%\n"
     ]
    }
   ],
   "source": [
    "if TRAIN:\n",
    "        predictions = classify(TRAIN_PROCESSED_FILE, test_file=(not TRAIN))\n",
    "        correct = sum([1 for p in predictions if p[1] == p[2]]) * 100.0 / len(predictions)\n",
    "        print('Correct = %.2f%%' % correct)\n",
    "else:\n",
    "    predictions = classify(TEST_PROCESSED_FILE, test_file=(not TRAIN))\n",
    "    utils.save_results_to_csv(predictions, 'baseline.csv')"
   ]
  },
  {
   "cell_type": "code",
   "execution_count": null,
   "metadata": {},
   "outputs": [],
   "source": []
  }
 ],
 "metadata": {
  "kernelspec": {
   "display_name": "Python 3",
   "language": "python",
   "name": "python3"
  },
  "language_info": {
   "codemirror_mode": {
    "name": "ipython",
    "version": 3
   },
   "file_extension": ".py",
   "mimetype": "text/x-python",
   "name": "python",
   "nbconvert_exporter": "python",
   "pygments_lexer": "ipython3",
   "version": "3.8.0"
  }
 },
 "nbformat": 4,
 "nbformat_minor": 4
}
